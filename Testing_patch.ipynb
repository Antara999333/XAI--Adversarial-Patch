{
  "nbformat": 4,
  "nbformat_minor": 0,
  "metadata": {
    "colab": {
      "provenance": []
    },
    "kernelspec": {
      "name": "python3",
      "display_name": "Python 3"
    },
    "language_info": {
      "name": "python"
    }
  },
  "cells": [
    {
      "cell_type": "code",
      "source": [
        "import torch\n",
        "import torchvision.transforms as transforms\n",
        "from torchvision import models\n",
        "from PIL import Image\n",
        "\n",
        "# Load pre-trained ResNet-34 model\n",
        "model = models.resnet34(pretrained=True)\n",
        "model.eval()  # Set model to evaluation mode\n",
        "\n",
        "# Load and preprocess the adversarial patch\n",
        "def load_patch(patch_path):\n",
        "    transform = transforms.Compose([\n",
        "        transforms.Resize(224),  # Resize to 224x224 (ResNet input size)\n",
        "        transforms.ToTensor(),   # Convert image to tensor\n",
        "        transforms.Normalize(mean=[0.485, 0.456, 0.406], std=[0.229, 0.224, 0.225])  # Normalize\n",
        "    ])\n",
        "    patch_image = Image.open(patch_path).convert('RGB')  # Ensure image is in RGB mode\n",
        "    return transform(patch_image).unsqueeze(0)  # Add batch dimension\n",
        "\n",
        "# Replace with the actual path to your patch\n",
        "patch_path = '/content/drive/MyDrive/combined_patch_rgb.png'\n",
        "patch_tensor = load_patch(patch_path)\n",
        "\n",
        "# Predict using the ResNet-34 model\n",
        "with torch.no_grad():\n",
        "    output = model(patch_tensor)\n",
        "\n",
        "# Get the predicted class\n",
        "_, predicted_class = torch.max(output, 1)\n",
        "\n",
        "# Load ImageNet class labels\n",
        "imagenet_labels_path = '/content/drive/MyDrive/imagenet_classes.txt'\n",
        "with open(imagenet_labels_path) as f:\n",
        "    imagenet_labels = {idx: label for idx, label in enumerate(f.read().splitlines())}\n",
        "\n",
        "predicted_label = imagenet_labels[predicted_class.item()]\n",
        "\n",
        "print(f\"Predicted class for adversarial patch: {predicted_label}\")\n"
      ],
      "metadata": {
        "colab": {
          "base_uri": "https://localhost:8080/"
        },
        "id": "ii2-qvKFsLlR",
        "outputId": "36a80545-8750-4731-9c09-dcc97617c8c3"
      },
      "execution_count": 7,
      "outputs": [
        {
          "output_type": "stream",
          "name": "stdout",
          "text": [
            "Predicted class for adversarial patch: goldfish\n"
          ]
        }
      ]
    }
  ]
}